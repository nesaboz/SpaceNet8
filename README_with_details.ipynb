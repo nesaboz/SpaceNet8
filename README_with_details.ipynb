{
 "cells": [
  {
   "attachments": {},
   "cell_type": "markdown",
   "metadata": {},
   "source": [
    "# SpaceNet8 \n",
    "\n",
    "SSH into a VM of your choice (I use paperspace Core machine that has ML-out-of-the-box, it has `nvidia-docker` installed)."
   ]
  },
  {
   "attachments": {},
   "cell_type": "markdown",
   "metadata": {},
   "source": [
    "\n",
    "## Download SpaceNet8 repo and build docker image\n",
    "\n",
    "My home folder: **~/Work/SpaceNet8** (`/home/paperspace/` is a home directory `~`).\n",
    "\n",
    "On paperspace machine get our SpaceNet github repo [instructions](https://github.com/nesaboz/SpaceNet8.git):\n",
    "```\n",
    "git clone https://github.com/nesaboz/SpaceNet8.git\n",
    "```\n",
    "\n",
    "\n",
    "Build docker image (will take a few minutes):\n",
    "```\n",
    "sudo nvidia-docker build -t sn8/baseline:1.0 ~/Work/SpaceNet8/docker \n",
    "```\n",
    "There is a way to avoid constant `sudo` but requires messing with some json config files. For now just use `sudo`."
   ]
  },
  {
   "attachments": {},
   "cell_type": "markdown",
   "metadata": {},
   "source": [
    "\n",
    "## Download SpaceNet8 data\n",
    "\n",
    "Let this be folder (create via mkdir): **~/Work/data**\n",
    "\n",
    "Install `awscli`:\n",
    "```\n",
    "pip install awscli\n",
    "```\n",
    "\n",
    "Download the dataset (links also [here](https://spacenet.ai/sn8-challenge/)). Try to download data first and if needed set up aws credentials:\n",
    "Log into [AWS management console](https://aws.amazon.com/console/), under \"Account/Security credentials/\n",
    "Create access key\" get ACCESS_KEY and SECRET_KEY:\n",
    "```\n",
    "aws configure set aws_access_key_id ACCESS_KEY  \n",
    "aws configure set aws_secret_access_key SECRET_KEY\n",
    "```\n",
    "\n",
    "Download training data:\n",
    "```\n",
    "aws s3 cp  s3://spacenet-dataset/spacenet/SN8_floods/tarballs/Germany_Training_Public.tar.gz . \n",
    "aws s3 cp s3://spacenet-dataset/spacenet/SN8_floods/tarballs/Louisiana-East_Training_Public.tar.gz . \n",
    "```\n",
    "testing data:\n",
    "```\n",
    "aws s3 cp  s3://spacenet-dataset/spacenet/SN8_floods/tarballs/Louisiana-West_Test_Public.tar.gz . \n",
    "```\n",
    "\n",
    "Unzip the data:\n",
    "```\n",
    "tar -xf Germany_Training_Public.tar.gz\n",
    "tar -xf Louisiana-East_Training_Public.tar.gz\n",
    "tar -xf Louisiana-West_Test_Public.tar.gz\n",
    "```\n"
   ]
  },
  {
   "attachments": {},
   "cell_type": "markdown",
   "metadata": {},
   "source": [
    "\n",
    "# Build and Run docker container\n",
    "\n",
    "Let's run the container and mount the two folders that we created in previous steps:\n",
    "```\n",
    "sudo nvidia-docker run -v ~/Work/SpaceNet8:/tmp/SpaceNet8 -v ~/Work/data:/tmp/data -it --rm sn8/baseline:1.0 bash\n",
    "```\n",
    "in general, option `-v /host/path:/container/path` mounts a folder, more options [here](https://docs.docker.com/engine/reference/commandline/run/).\n",
    "\n",
    "the prompt should now look like this `root@<container_id>:/#` and the two folders will be mounted in the `/tmp` folder.\n",
    "\n",
    "To attach to container from VSCode, install \"Remote Development\" extension [pack](https://marketplace.visualstudio.com/items?itemName=ms-vscode-remote.vscode-remote-extensionpack), then one can attach the container in VSCode by going to a command pallette (Cmd+Shift+P) and typing \"Attach to running container\".\n",
    "\n",
    "To see running containers' info from paperspace machine use:\n",
    "```\n",
    "docker ps\n",
    "```\n",
    "To stop all the docker containers:\n",
    "```\n",
    "docker container stop ID_or_NAME\n",
    "docker container stop $(docker container ls -aq)\n",
    "```\n"
   ]
  },
  {
   "attachments": {},
   "cell_type": "markdown",
   "metadata": {},
   "source": [
    "## Data Preparation"
   ]
  },
  {
   "cell_type": "markdown",
   "metadata": {},
   "source": []
  },
  {
   "attachments": {},
   "cell_type": "markdown",
   "metadata": {},
   "source": [
    "\n",
    "\n",
    "\n"
   ]
  }
 ],
 "metadata": {
  "language_info": {
   "name": "python"
  },
  "orig_nbformat": 4
 },
 "nbformat": 4,
 "nbformat_minor": 2
}
